{
 "cells": [
  {
   "cell_type": "markdown",
   "id": "182e0028-bb37-4b2d-a874-1944cfa2145c",
   "metadata": {},
   "source": [
    "Que 1)Ans=>"
   ]
  },
  {
   "cell_type": "code",
   "execution_count": 1,
   "id": "721488a9-3206-497c-be64-d7645ffa9297",
   "metadata": {},
   "outputs": [],
   "source": [
    "def validate_password(password):\n",
    "    if len(password) != 10:\n",
    "        return \"Invalid Password\"\n",
    "    if sum(c.isupper() for c in password) < 2:\n",
    "        return \"Invalid Password\"\n",
    "    if sum(c.islower() for c in password) < 2:\n",
    "        return \"Invalid Password\"\n",
    "    if not any(c.isdigit() for c in password):\n",
    "        return \"Invalid Password\"\n",
    "    if sum(c in \"@#$%^&+=\" for c in password) < 3:\n",
    "        return \"Invalid Password\"\n",
    "    \n",
    "    return \"Valid Password\"\n"
   ]
  },
  {
   "cell_type": "code",
   "execution_count": 2,
   "id": "27fb882f-0889-4b37-b885-3b79a2f889f5",
   "metadata": {},
   "outputs": [
    {
     "data": {
      "text/plain": [
       "'Valid Password'"
      ]
     },
     "execution_count": 2,
     "metadata": {},
     "output_type": "execute_result"
    }
   ],
   "source": [
    "validate_password(\"SHre12@#&d\")"
   ]
  },
  {
   "cell_type": "markdown",
   "id": "5a025e07-fc1f-4c57-bbca-b384bd265d98",
   "metadata": {},
   "source": [
    "Que 2)Ans=>"
   ]
  },
  {
   "cell_type": "code",
   "execution_count": 9,
   "id": "f4ac2206-11a4-43f9-803a-d50d8ee91c37",
   "metadata": {},
   "outputs": [
    {
     "name": "stdout",
     "output_type": "stream",
     "text": [
      "True\n"
     ]
    }
   ],
   "source": [
    "string = \"Hello World\"\n",
    "check_letter = 'H'\n",
    "\n",
    "result = True if (lambda x: x[0] == check_letter)(string) else False\n",
    "print(result)\n"
   ]
  },
  {
   "cell_type": "code",
   "execution_count": 10,
   "id": "92b94d89-70da-4e40-9719-f90ffb5595c9",
   "metadata": {},
   "outputs": [
    {
     "name": "stdout",
     "output_type": "stream",
     "text": [
      "True\n"
     ]
    }
   ],
   "source": [
    "string = \"123456\"\n",
    "\n",
    "result = True if (lambda x: x.isdigit())(string) else False\n",
    "print(result)\n"
   ]
  },
  {
   "cell_type": "code",
   "execution_count": 11,
   "id": "06a5a0e6-e33d-4bf7-8dab-0de016bf71ae",
   "metadata": {},
   "outputs": [
    {
     "name": "stdout",
     "output_type": "stream",
     "text": [
      "[('orange', 80), ('mango', 99), ('grapes', 1000)]\n"
     ]
    }
   ],
   "source": [
    "fruits = [(\"mango\",99),(\"orange\",80),(\"grapes\",1000)]\n",
    "\n",
    "sorted_fruits = sorted(fruits, key=lambda x: x[1])\n",
    "print(sorted_fruits)\n"
   ]
  },
  {
   "cell_type": "code",
   "execution_count": 14,
   "id": "621199d4-c72c-4043-8579-aa445fb09cac",
   "metadata": {},
   "outputs": [
    {
     "name": "stdout",
     "output_type": "stream",
     "text": [
      "25\n"
     ]
    }
   ],
   "source": [
    "square = lambda x: x**2\n",
    "print(square(5))  \n"
   ]
  },
  {
   "cell_type": "code",
   "execution_count": 16,
   "id": "15f33682-e66e-4d2c-9102-dfa02e9d642d",
   "metadata": {},
   "outputs": [
    {
     "name": "stdout",
     "output_type": "stream",
     "text": [
      "[1.0, 1.26, 1.44, 1.59, 1.71, 1.82, 1.91, 2.0, 2.08, 2.15]\n"
     ]
    }
   ],
   "source": [
    "import math\n",
    "numbers = range(1, 11)\n",
    "\n",
    "cube_roots = list(map(lambda x: round(math.pow(x, 1/3), 2), numbers))\n",
    "print(cube_roots)\n"
   ]
  },
  {
   "cell_type": "code",
   "execution_count": 39,
   "id": "fb8453f6-4c7d-46b4-b442-6b8a127ed675",
   "metadata": {},
   "outputs": [
    {
     "name": "stdout",
     "output_type": "stream",
     "text": [
      "True\n",
      "False\n"
     ]
    }
   ],
   "source": [
    "is_even = lambda x: x % 2 == 0\n",
    "\n",
    "print(is_even(2)) \n",
    "print(is_even(3)) "
   ]
  },
  {
   "cell_type": "code",
   "execution_count": 40,
   "id": "4915b138-bd4e-4149-be07-3548ad412e6c",
   "metadata": {},
   "outputs": [
    {
     "name": "stdout",
     "output_type": "stream",
     "text": [
      "[1, 3, 5, 7, 9]\n"
     ]
    }
   ],
   "source": [
    "numbers = [1, 2, 3, 4, 5, 6, 7, 8, 9, 10]\n",
    "\n",
    "odd_numbers = list(filter(lambda x: x % 2 != 0, numbers))\n",
    "print(odd_numbers)\n"
   ]
  },
  {
   "cell_type": "code",
   "execution_count": null,
   "id": "896b65a8-7b3d-4efd-8c2f-aeb1fdcc9ea2",
   "metadata": {},
   "outputs": [],
   "source": []
  }
 ],
 "metadata": {
  "kernelspec": {
   "display_name": "Python 3 (ipykernel)",
   "language": "python",
   "name": "python3"
  },
  "language_info": {
   "codemirror_mode": {
    "name": "ipython",
    "version": 3
   },
   "file_extension": ".py",
   "mimetype": "text/x-python",
   "name": "python",
   "nbconvert_exporter": "python",
   "pygments_lexer": "ipython3",
   "version": "3.10.8"
  }
 },
 "nbformat": 4,
 "nbformat_minor": 5
}
